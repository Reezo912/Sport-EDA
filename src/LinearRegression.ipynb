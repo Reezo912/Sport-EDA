{
 "cells": [
  {
   "cell_type": "markdown",
   "metadata": {},
   "source": [
    "# Machine Learning"
   ]
  },
  {
   "cell_type": "code",
   "execution_count": 1,
   "metadata": {},
   "outputs": [],
   "source": [
    "import os\n",
    "import pandas as pd\n",
    "from sklearn.linear_model import LinearRegression, Ridge, ElasticNet, Lasso\n",
    "from sklearn.metrics import r2_score, mean_squared_error, mean_absolute_error\n",
    "import numpy as np"
   ]
  },
  {
   "cell_type": "markdown",
   "metadata": {},
   "source": [
    "## Importo todos mis datasets"
   ]
  },
  {
   "cell_type": "code",
   "execution_count": 2,
   "metadata": {},
   "outputs": [],
   "source": [
    "# Path donde se encuentran mis archivos train\n",
    "BASE_PATH = \"../data/processed\"\n",
    "TRAIN_PATHS = [\n",
    "    \"X_train_raw.xlsx\",\n",
    "    \"X_train_norm.xlsx\",\n",
    "    \"X_train_scal.xlsx\",\n",
    "]\n",
    "\n",
    "# Guardo cada uno de estos archivos dentro de una lista\n",
    "TRAIN_DATASETS = []\n",
    "for path in TRAIN_PATHS:\n",
    "    TRAIN_DATASETS.append(\n",
    "        # pd.read_excel(BASE_PATH + \"/\" + path)\n",
    "        pd.read_excel(f\"{BASE_PATH}/{path}\")\n",
    "        # pd.read_excel(os.path.join(BASE_PATH, path))\n",
    "    )\n",
    "\n",
    "# Path donde se encuentran mis archivos test\n",
    "TEST_PATHS = [\n",
    "    \"X_test_raw.xlsx\",\n",
    "    \"X_test_norm.xlsx\",\n",
    "    \"X_test_scal.xlsx\",\n",
    "]\n",
    "\n",
    "# Guardo cada uno de estos archivos dentro de una lista\n",
    "TEST_DATASETS = []\n",
    "for path in TEST_PATHS:\n",
    "    TEST_DATASETS.append(\n",
    "        pd.read_excel(f\"{BASE_PATH}/{path}\")\n",
    "    )\n",
    "\n",
    "y_train = pd.read_excel(f\"{BASE_PATH}/y_train.xlsx\")\n",
    "y_test = pd.read_excel(f\"{BASE_PATH}/y_test.xlsx\")"
   ]
  },
  {
   "cell_type": "markdown",
   "metadata": {},
   "source": [
    "### Entreno un modelo sin optimizaciones para encontrar el mejor dataset"
   ]
  },
  {
   "cell_type": "code",
   "execution_count": 3,
   "metadata": {},
   "outputs": [
    {
     "name": "stdout",
     "output_type": "stream",
     "text": [
      "   train_rmse  test_rmse  train_r2   test_r2\n",
      "0    2.648457   2.665894  0.042413 -0.019397\n",
      "1    2.648457   2.665894  0.042413 -0.019397\n",
      "2    2.648457   2.665894  0.042413 -0.019397\n"
     ]
    }
   ],
   "source": [
    "results = []\n",
    "for index, dataset in enumerate(TRAIN_DATASETS):\n",
    "    model = LinearRegression(n_jobs = -1)\n",
    "    model.fit(dataset, y_train)\n",
    "    y_pred_train = model.predict(dataset)\n",
    "    y_pred_test = model.predict(TEST_DATASETS[index])\n",
    "\n",
    "    results.append({\n",
    "        \"train_r2\": r2_score(y_train, y_pred_train),\n",
    "        \"train_mse\": mean_squared_error(y_train, y_pred_train),\n",
    "        \"test_r2\": r2_score(y_test, y_pred_test),\n",
    "        \"test_mse\": mean_squared_error(y_test, y_pred_test),\n",
    "    })\n",
    "\n",
    "df_results = pd.DataFrame(results)\n",
    "# Calcular RMSE\n",
    "df_results[\"train_rmse\"] = np.sqrt(df_results[\"train_mse\"])\n",
    "df_results[\"test_rmse\"] = np.sqrt(df_results[\"test_mse\"])\n",
    "# Seleccionar columnas relevantes para mostrar en tabla\n",
    "df_results = df_results[[\"train_rmse\", \"test_rmse\", \"train_r2\", \"test_r2\"]]\n",
    "# Mostrar tabla\n",
    "print(df_results)"
   ]
  },
  {
   "cell_type": "markdown",
   "metadata": {},
   "source": [
    "Dado que estos resultados no son buenos, voy a probar con regresion lineal regularizada, para intentar obtener un mejor resultado. Si esto no funciona intentaré un modelo de Tree Selection"
   ]
  },
  {
   "cell_type": "code",
   "execution_count": 4,
   "metadata": {},
   "outputs": [],
   "source": [
    "from sklearn.model_selection import GridSearchCV\n",
    "\n",
    "param_grid = {\n",
    "    \"alpha\": np.linspace(0.0001, 1000, 30),\n",
    "    \"max_iter\": [100, 300, 600, 1000, 2000, 4000, 8000, 12000],\n",
    "    \"tol\": np.linspace(0.0001, 0.01, 30),\n",
    "}\n",
    "\n",
    "\n",
    "param_grid_elastic = {\n",
    "    \"alpha\": np.linspace(0.0001, 1000, 30),\n",
    "    \"l1_ratio\": [0.1, 0.5, 0.9],\n",
    "    \"max_iter\": [100, 300, 1000, 2000, 4000, 8000, 12000],\n",
    "    \"tol\": np.linspace(0.0001, 0.01, 30),\n",
    "}"
   ]
  },
  {
   "cell_type": "markdown",
   "metadata": {},
   "source": [
    "## Ridge"
   ]
  },
  {
   "cell_type": "code",
   "execution_count": 5,
   "metadata": {},
   "outputs": [
    {
     "name": "stdout",
     "output_type": "stream",
     "text": [
      "   train_rmse  test_rmse  train_r2   test_r2\n",
      "0    2.648473   2.664934  0.042401 -0.018663\n",
      "1    2.648458   2.665728  0.042413 -0.019270\n",
      "2    2.648500   2.664658  0.042382 -0.018452\n"
     ]
    }
   ],
   "source": [
    "results = []\n",
    "for index, dataset in enumerate(TRAIN_DATASETS):\n",
    "    model = Ridge(random_state=42)\n",
    "    model.fit(dataset, y_train)\n",
    "    y_pred_train = model.predict(dataset)\n",
    "    y_pred_test = model.predict(TEST_DATASETS[index])\n",
    "\n",
    "    results.append({\n",
    "        \"train_r2\": r2_score(y_train, y_pred_train),\n",
    "        \"train_mse\": mean_squared_error(y_train, y_pred_train),\n",
    "        \"test_r2\": r2_score(y_test, y_pred_test),\n",
    "        \"test_mse\": mean_squared_error(y_test, y_pred_test),\n",
    "    })\n",
    "\n",
    "df_results = pd.DataFrame(results)\n",
    "# Calcular RMSE\n",
    "df_results[\"train_rmse\"] = np.sqrt(df_results[\"train_mse\"])\n",
    "df_results[\"test_rmse\"] = np.sqrt(df_results[\"test_mse\"])\n",
    "# Seleccionar columnas relevantes para mostrar en tabla\n",
    "df_results = df_results[[\"train_rmse\", \"test_rmse\", \"train_r2\", \"test_r2\"]]\n",
    "# Mostrar tabla\n",
    "print(df_results)"
   ]
  },
  {
   "cell_type": "code",
   "execution_count": 6,
   "metadata": {},
   "outputs": [
    {
     "name": "stdout",
     "output_type": "stream",
     "text": [
      "   train_r2  train_mse   test_r2  test_mse\n",
      "0  0.003806   7.297124 -0.020374  7.113799\n"
     ]
    }
   ],
   "source": [
    "# Indice de mi mejor dataset\n",
    "best_dataset = 2\n",
    "\n",
    "ridge_model = Ridge(random_state= 42)\n",
    "\n",
    "grid_ridge = GridSearchCV(estimator = ridge_model, param_grid = param_grid, scoring = 'r2', cv = 5, n_jobs = 14)\n",
    "\n",
    "grid_ridge.fit(TRAIN_DATASETS[best_dataset], y_train)\n",
    "best_model_ridge = grid_ridge.best_estimator_\n",
    "\n",
    "y_pred_train = best_model_ridge.predict(TRAIN_DATASETS[best_dataset])\n",
    "y_pred_test = best_model_ridge.predict(TEST_DATASETS[best_dataset])\n",
    "\n",
    "\n",
    "results_ridge = []\n",
    "\n",
    "results_ridge.append({\n",
    "        \"train_r2\": r2_score(y_train, y_pred_train),\n",
    "        \"train_mse\": mean_squared_error(y_train, y_pred_train),\n",
    "        \"test_r2\": r2_score(y_test, y_pred_test),\n",
    "        \"test_mse\": mean_squared_error(y_test, y_pred_test),\n",
    "    })\n",
    "\n",
    "df_ridge = pd.DataFrame(results_ridge)\n",
    "\n",
    "print(df_ridge)"
   ]
  },
  {
   "cell_type": "markdown",
   "metadata": {},
   "source": [
    "Mis resultados siguen siendo muy bajos"
   ]
  },
  {
   "cell_type": "markdown",
   "metadata": {},
   "source": [
    "## Lasso"
   ]
  },
  {
   "cell_type": "code",
   "execution_count": 7,
   "metadata": {},
   "outputs": [
    {
     "name": "stdout",
     "output_type": "stream",
     "text": [
      "   train_rmse  test_rmse  train_r2   test_r2\n",
      "0    2.686269   2.657174  0.014875 -0.012739\n",
      "1    2.706474   2.669451  0.000000 -0.022120\n",
      "2    2.706474   2.669451  0.000000 -0.022120\n"
     ]
    }
   ],
   "source": [
    "results = []\n",
    "for index, dataset in enumerate(TRAIN_DATASETS):\n",
    "    model = Lasso(random_state=42)\n",
    "    model.fit(dataset, y_train)\n",
    "    y_pred_train = model.predict(dataset)\n",
    "    y_pred_test = model.predict(TEST_DATASETS[index])\n",
    "\n",
    "    results.append({\n",
    "        \"train_r2\": r2_score(y_train, y_pred_train),\n",
    "        \"train_mse\": mean_squared_error(y_train, y_pred_train),\n",
    "        \"test_r2\": r2_score(y_test, y_pred_test),\n",
    "        \"test_mse\": mean_squared_error(y_test, y_pred_test),\n",
    "    })\n",
    "\n",
    "df_results = pd.DataFrame(results)\n",
    "# Calcular RMSE\n",
    "df_results[\"train_rmse\"] = np.sqrt(df_results[\"train_mse\"])\n",
    "df_results[\"test_rmse\"] = np.sqrt(df_results[\"test_mse\"])\n",
    "# Seleccionar columnas relevantes para mostrar en tabla\n",
    "df_results = df_results[[\"train_rmse\", \"test_rmse\", \"train_r2\", \"test_r2\"]]\n",
    "# Mostrar tabla\n",
    "print(df_results)"
   ]
  },
  {
   "cell_type": "code",
   "execution_count": 8,
   "metadata": {},
   "outputs": [
    {
     "name": "stdout",
     "output_type": "stream",
     "text": [
      "   train_r2  train_mse  test_r2  test_mse\n",
      "0       0.0   7.325001 -0.02212  7.125971\n"
     ]
    }
   ],
   "source": [
    "from sklearn.linear_model import Lasso\n",
    "\n",
    "# Carga de los datos de train y test\n",
    "# Estos datos deben haber sido normalizados y correctamente tratados en un EDA completo\n",
    "best_dataset = 0\n",
    "\n",
    "lasso_model = Lasso(random_state=42)\n",
    "\n",
    "grid_lasso = GridSearchCV(estimator = lasso_model, param_grid = param_grid, scoring = 'r2', cv = 5, n_jobs = 14)\n",
    "\n",
    "grid_lasso.fit(TRAIN_DATASETS[best_dataset], y_train)\n",
    "best_model_lasso = grid_lasso.best_estimator_\n",
    "\n",
    "y_pred_train = best_model_lasso.predict(TRAIN_DATASETS[best_dataset])\n",
    "y_pred_test = best_model_lasso.predict(TEST_DATASETS[best_dataset])\n",
    "\n",
    "\n",
    "results_lasso = []\n",
    "\n",
    "results_lasso.append({\n",
    "        \"train_r2\": r2_score(y_train, y_pred_train),\n",
    "        \"train_mse\": mean_squared_error(y_train, y_pred_train),\n",
    "        \"test_r2\": r2_score(y_test, y_pred_test),\n",
    "        \"test_mse\": mean_squared_error(y_test, y_pred_test),\n",
    "    })\n",
    "\n",
    "df_lasso = pd.DataFrame(results_lasso)\n",
    "\n",
    "print(df_lasso)"
   ]
  },
  {
   "cell_type": "markdown",
   "metadata": {},
   "source": [
    "## ElasticNet"
   ]
  },
  {
   "cell_type": "code",
   "execution_count": 9,
   "metadata": {},
   "outputs": [
    {
     "name": "stdout",
     "output_type": "stream",
     "text": [
      "   train_rmse  test_rmse  train_r2   test_r2\n",
      "0    2.683208   2.660270  0.017119 -0.015101\n",
      "1    2.706474   2.669451  0.000000 -0.022120\n",
      "2    2.706474   2.669451  0.000000 -0.022120\n"
     ]
    }
   ],
   "source": [
    "results = []\n",
    "for index, dataset in enumerate(TRAIN_DATASETS):\n",
    "    model = ElasticNet(random_state=42)\n",
    "    model.fit(dataset, y_train)\n",
    "    y_pred_train = model.predict(dataset)\n",
    "    y_pred_test = model.predict(TEST_DATASETS[index])\n",
    "\n",
    "    results.append({\n",
    "        \"train_r2\": r2_score(y_train, y_pred_train),\n",
    "        \"train_mse\": mean_squared_error(y_train, y_pred_train),\n",
    "        \"test_r2\": r2_score(y_test, y_pred_test),\n",
    "        \"test_mse\": mean_squared_error(y_test, y_pred_test),\n",
    "    })\n",
    "\n",
    "df_results = pd.DataFrame(results)\n",
    "# Calcular RMSE\n",
    "df_results[\"train_rmse\"] = np.sqrt(df_results[\"train_mse\"])\n",
    "df_results[\"test_rmse\"] = np.sqrt(df_results[\"test_mse\"])\n",
    "# Seleccionar columnas relevantes para mostrar en tabla\n",
    "df_results = df_results[[\"train_rmse\", \"test_rmse\", \"train_r2\", \"test_r2\"]]\n",
    "# Mostrar tabla\n",
    "print(df_results)"
   ]
  },
  {
   "cell_type": "code",
   "execution_count": 10,
   "metadata": {},
   "outputs": [
    {
     "name": "stdout",
     "output_type": "stream",
     "text": [
      "   train_r2  train_mse  test_r2  test_mse\n",
      "0       0.0   7.325001 -0.02212  7.125971\n"
     ]
    }
   ],
   "source": [
    "from sklearn.linear_model import ElasticNet\n",
    "\n",
    "best_dataset = 0\n",
    "\n",
    "elastic_net_model = ElasticNet(random_state=42)\n",
    "\n",
    "grid_elastic = GridSearchCV(estimator = elastic_net_model, param_grid = param_grid_elastic, scoring = 'r2', cv = 5, n_jobs = 14)\n",
    "\n",
    "grid_elastic.fit(TRAIN_DATASETS[best_dataset], y_train)\n",
    "best_model_elastic = grid_elastic.best_estimator_\n",
    "\n",
    "y_pred_train = best_model_elastic.predict(TRAIN_DATASETS[best_dataset])\n",
    "y_pred_test = best_model_elastic.predict(TEST_DATASETS[best_dataset])\n",
    "\n",
    "\n",
    "\n",
    "\n",
    "results_elastic = []\n",
    "\n",
    "results_elastic.append({\n",
    "        \"train_r2\": r2_score(y_train, y_pred_train),\n",
    "        \"train_mse\": mean_squared_error(y_train, y_pred_train),\n",
    "        \"test_r2\": r2_score(y_test, y_pred_test),\n",
    "        \"test_mse\": mean_squared_error(y_test, y_pred_test),\n",
    "    })\n",
    "\n",
    "df_elastic = pd.DataFrame(results_elastic)\n",
    "\n",
    "print(df_elastic)"
   ]
  },
  {
   "cell_type": "markdown",
   "metadata": {},
   "source": [
    "Tras estas pruebas, puedo confirmar que mis datos no son lineales(lo que había observado en mi EDA), por lo tanto "
   ]
  }
 ],
 "metadata": {
  "kernelspec": {
   "display_name": "Python 3",
   "language": "python",
   "name": "python3"
  },
  "language_info": {
   "codemirror_mode": {
    "name": "ipython",
    "version": 3
   },
   "file_extension": ".py",
   "mimetype": "text/x-python",
   "name": "python",
   "nbconvert_exporter": "python",
   "pygments_lexer": "ipython3",
   "version": "3.13.1"
  }
 },
 "nbformat": 4,
 "nbformat_minor": 2
}
