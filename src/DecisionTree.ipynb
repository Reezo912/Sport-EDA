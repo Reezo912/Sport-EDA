{
 "cells": [
  {
   "cell_type": "markdown",
   "metadata": {},
   "source": [
    "# Random Tree Algorithm"
   ]
  },
  {
   "cell_type": "markdown",
   "metadata": {},
   "source": [
    "Tras confirmar que los modelos lineales no pueden resolver este dataset, voy a entrenar un modelo Random Tree."
   ]
  },
  {
   "cell_type": "code",
   "execution_count": 28,
   "metadata": {},
   "outputs": [],
   "source": [
    "import os\n",
    "import pandas as pd\n",
    "from sklearn.tree import DecisionTreeRegressor\n",
    "from sklearn.metrics import r2_score, mean_squared_error, mean_absolute_error\n",
    "import numpy as np"
   ]
  },
  {
   "cell_type": "markdown",
   "metadata": {},
   "source": [
    "## Importado"
   ]
  },
  {
   "cell_type": "code",
   "execution_count": 29,
   "metadata": {},
   "outputs": [],
   "source": [
    "# Path donde se encuentran mis archivos train\n",
    "BASE_PATH = \"../data/processed\"\n",
    "TRAIN_PATHS = [\n",
    "    \"X_train_raw.xlsx\",\n",
    "    \"X_train_norm.xlsx\",\n",
    "    \"X_train_scal.xlsx\",\n",
    "]\n",
    "\n",
    "# Guardo cada uno de estos archivos dentro de una lista\n",
    "TRAIN_DATASETS = []\n",
    "for path in TRAIN_PATHS:\n",
    "    TRAIN_DATASETS.append(\n",
    "        # pd.read_excel(BASE_PATH + \"/\" + path)\n",
    "        pd.read_excel(f\"{BASE_PATH}/{path}\")\n",
    "        # pd.read_excel(os.path.join(BASE_PATH, path))\n",
    "    )\n",
    "\n",
    "# Path donde se encuentran mis archivos test\n",
    "TEST_PATHS = [\n",
    "    \"X_test_raw.xlsx\",\n",
    "    \"X_test_norm.xlsx\",\n",
    "    \"X_test_scal.xlsx\",\n",
    "]\n",
    "\n",
    "# Guardo cada uno de estos archivos dentro de una lista\n",
    "TEST_DATASETS = []\n",
    "for path in TEST_PATHS:\n",
    "    TEST_DATASETS.append(\n",
    "        pd.read_excel(f\"{BASE_PATH}/{path}\")\n",
    "    )\n",
    "\n",
    "y_train = pd.read_excel(f\"{BASE_PATH}/y_train.xlsx\")\n",
    "y_test = pd.read_excel(f\"{BASE_PATH}/y_test.xlsx\")"
   ]
  },
  {
   "cell_type": "code",
   "execution_count": 30,
   "metadata": {},
   "outputs": [
    {
     "name": "stdout",
     "output_type": "stream",
     "text": [
      "   train_rmse  test_rmse  train_r2   test_r2\n",
      "0         0.0   4.171055       1.0 -1.495454\n",
      "1         0.0   4.209249       1.0 -1.541364\n",
      "2         0.0   4.218529       1.0 -1.552582\n"
     ]
    }
   ],
   "source": [
    "results = []\n",
    "for index, dataset in enumerate(TRAIN_DATASETS):\n",
    "    model = DecisionTreeRegressor(random_state=42)\n",
    "    model.fit(dataset, y_train)\n",
    "    y_pred_train = model.predict(dataset)\n",
    "    y_pred_test = model.predict(TEST_DATASETS[index])\n",
    "\n",
    "    results.append({\n",
    "        \"train_r2\": r2_score(y_train, y_pred_train),\n",
    "        \"train_mse\": mean_squared_error(y_train, y_pred_train),\n",
    "        \"test_r2\": r2_score(y_test, y_pred_test),\n",
    "        \"test_mse\": mean_squared_error(y_test, y_pred_test),\n",
    "    })\n",
    "\n",
    "df_results = pd.DataFrame(results)\n",
    "# Calcular RMSE\n",
    "df_results[\"train_rmse\"] = np.sqrt(df_results[\"train_mse\"])\n",
    "df_results[\"test_rmse\"] = np.sqrt(df_results[\"test_mse\"])\n",
    "# Seleccionar columnas relevantes para mostrar en tabla\n",
    "df_results = df_results[[\"train_rmse\", \"test_rmse\", \"train_r2\", \"test_r2\"]]\n",
    "# Mostrar tabla\n",
    "print(df_results)"
   ]
  },
  {
   "cell_type": "code",
   "execution_count": 31,
   "metadata": {},
   "outputs": [],
   "source": [
    "param_grid = {\n",
    "    \"max_depth\": [3, 5, 8, None],\n",
    "    \"min_samples_split\": [2, 5, 10],\n",
    "    \"max_features\": [\"sqrt\", 0.8],\n",
    "    \"criterion\": [\"squared_error\", \"absolute_error\"]\n",
    "}"
   ]
  },
  {
   "cell_type": "code",
   "execution_count": 33,
   "metadata": {},
   "outputs": [
    {
     "name": "stdout",
     "output_type": "stream",
     "text": [
      "   train_r2  train_mse   test_r2  test_mse\n",
      "0  0.106078    6.54798 -0.112507  7.756126\n",
      "-----------------------\n",
      "Error cuadrático medio: 7.756126297783932\n",
      "-----------------------\n",
      "Mejores hiperparámetros: {'criterion': 'squared_error', 'max_depth': 3, 'max_features': 'sqrt', 'min_samples_split': 2}\n"
     ]
    }
   ],
   "source": [
    "from sklearn.model_selection import GridSearchCV\n",
    "\n",
    "\n",
    "best_dataset = 0\n",
    "\n",
    "model_optimized = DecisionTreeRegressor(random_state= 42)\n",
    "\n",
    "grid_optimized = GridSearchCV(estimator = model_optimized, param_grid = param_grid, scoring = 'r2', cv = 5, n_jobs = 14)\n",
    "\n",
    "\n",
    "grid_optimized.fit(TRAIN_DATASETS[best_dataset], y_train)\n",
    "best_model = grid_optimized.best_estimator_\n",
    "\n",
    "\n",
    "y_pred_train = best_model.predict(TRAIN_DATASETS[best_dataset])\n",
    "y_pred_test = best_model.predict(TEST_DATASETS[best_dataset])\n",
    "\n",
    "\n",
    "results_optimized = []\n",
    "\n",
    "results_optimized.append({\n",
    "        \"train_r2\": r2_score(y_train, y_pred_train),\n",
    "        \"train_mse\": mean_squared_error(y_train, y_pred_train),\n",
    "        \"test_r2\": r2_score(y_test, y_pred_test),\n",
    "        \"test_mse\": mean_squared_error(y_test, y_pred_test),\n",
    "    })\n",
    "\n",
    "df_optimized = pd.DataFrame(results_optimized)\n",
    "\n",
    "print(df_optimized)\n",
    "print('-----------------------')\n",
    "print(f\"Error cuadrático medio: {mean_squared_error(y_test, y_pred_test)}\")\n",
    "\n",
    "#   train_accuracy  test_accuracy  train_f1  test_f1\n",
    "#0        0.833876       0.727273  0.755981    0.625\n",
    "\n",
    "#   train_accuracy  test_accuracy  train_f1   test_f1\n",
    "#0        0.942997       0.837662  0.915663  0.782609\n",
    "\n",
    "#   train_accuracy  test_accuracy  train_f1   test_f1  2\n",
    "#0        0.941368       0.857143  0.913462  0.796296\n",
    "\n",
    "\n",
    "\n",
    "#   train_accuracy  test_accuracy  train_f1   test_f1\n",
    "#0        0.876221       0.857143  0.816425  0.803571\n",
    "#-----------------------\n",
    "#Error cuadrático medio: 0.14285714285714285\n",
    "\n",
    "# Best\n",
    "#  train_accuracy  test_accuracy  train_f1  test_f1\n",
    "# 0        0.912052       0.883117  0.869565     0.82\n",
    "print('-----------------------')\n",
    "print(\"Mejores hiperparámetros:\", grid_optimized.best_params_)"
   ]
  },
  {
   "cell_type": "markdown",
   "metadata": {},
   "source": [
    "Dado que este modelo tambien me ha dado valores muy bajos, entiendo que no hay suficiente correlacion entre los datos y la variable target.\n",
    "\n",
    "Esto puede suceder porque los datos sean sintéticos o bien porque faltan variables descriptivas con las cuales poder obtener los resultados.\n",
    "\n",
    "Para hacer una última comprobación habría que utilizar un modelo de redes neuronales para intentar capturar relaciones complejas entre los datos si es que existen."
   ]
  }
 ],
 "metadata": {
  "kernelspec": {
   "display_name": "Python 3",
   "language": "python",
   "name": "python3"
  },
  "language_info": {
   "codemirror_mode": {
    "name": "ipython",
    "version": 3
   },
   "file_extension": ".py",
   "mimetype": "text/x-python",
   "name": "python",
   "nbconvert_exporter": "python",
   "pygments_lexer": "ipython3",
   "version": "3.13.1"
  }
 },
 "nbformat": 4,
 "nbformat_minor": 2
}
